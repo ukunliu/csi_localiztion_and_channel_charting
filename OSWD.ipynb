{
 "cells": [
  {
   "cell_type": "markdown",
   "id": "6bbf11ff-4707-4f6b-a203-c56e7be068e7",
   "metadata": {},
   "source": [
    "# Downloading and Reading the CSI Dataset"
   ]
  },
  {
   "cell_type": "code",
   "execution_count": 1,
   "id": "c7b7c6ee-cf77-479d-b2b3-675d2ea573dd",
   "metadata": {},
   "outputs": [
    {
     "name": "stderr",
     "output_type": "stream",
     "text": [
      "2024-02-02 13:55:00.916126: I external/local_tsl/tsl/cuda/cudart_stub.cc:31] Could not find cuda drivers on your machine, GPU will not be used.\n",
      "2024-02-02 13:55:00.959297: E external/local_xla/xla/stream_executor/cuda/cuda_dnn.cc:9261] Unable to register cuDNN factory: Attempting to register factory for plugin cuDNN when one has already been registered\n",
      "2024-02-02 13:55:00.959330: E external/local_xla/xla/stream_executor/cuda/cuda_fft.cc:607] Unable to register cuFFT factory: Attempting to register factory for plugin cuFFT when one has already been registered\n",
      "2024-02-02 13:55:00.960904: E external/local_xla/xla/stream_executor/cuda/cuda_blas.cc:1515] Unable to register cuBLAS factory: Attempting to register factory for plugin cuBLAS when one has already been registered\n",
      "2024-02-02 13:55:00.968531: I external/local_tsl/tsl/cuda/cudart_stub.cc:31] Could not find cuda drivers on your machine, GPU will not be used.\n",
      "2024-02-02 13:55:00.969198: I tensorflow/core/platform/cpu_feature_guard.cc:182] This TensorFlow binary is optimized to use available CPU instructions in performance-critical operations.\n",
      "To enable the following instructions: AVX2 FMA, in other operations, rebuild TensorFlow with the appropriate compiler flags.\n",
      "2024-02-02 13:55:02.227995: W tensorflow/compiler/tf2tensorrt/utils/py_utils.cc:38] TF-TRT Warning: Could not find TensorRT\n",
      "2024-02-02 13:55:04.149778: I tensorflow/core/grappler/optimizers/data/replicate_on_split.cc:32] Running replicate on split optimization\n"
     ]
    }
   ],
   "source": [
    "import matplotlib.pyplot as plt\n",
    "import tensorflow as tf\n",
    "import numpy as np\n",
    "import json\n",
    "\n",
    "ANTENNACOUNT = 32\n",
    "\n",
    "def load_and_calibrate(path, offset_path):\n",
    "\toffsets = None\n",
    "\twith open(offset_path, \"r\") as offsetfile:\n",
    "\t\toffsets = json.load(offsetfile)\n",
    "\t\n",
    "\tdef record_parse_function(proto):\n",
    "\t\trecord = tf.io.parse_single_example(\n",
    "\t\t\tproto,\n",
    "\t\t\t{\n",
    "\t\t\t\t\"csi\": tf.io.FixedLenFeature([], tf.string, default_value=\"\"),\n",
    "\t\t\t\t\"pos-tachy\": tf.io.FixedLenFeature([], tf.string, default_value=\"\"),\n",
    "\t\t\t\t\"time\": tf.io.FixedLenFeature([], tf.float32, default_value=0),\n",
    "\t\t\t},\n",
    "\t\t)\n",
    "\n",
    "\t\tcsi = tf.ensure_shape(tf.io.parse_tensor(record[\"csi\"], out_type=tf.float32), (ANTENNACOUNT, 1024, 2))\n",
    "\t\tcsi = tf.complex(csi[:, :, 0], csi[:, :, 1])\n",
    "\t\tcsi = tf.signal.fftshift(csi, axes=1)\n",
    "\n",
    "\t\tposition = tf.ensure_shape(tf.io.parse_tensor(record[\"pos-tachy\"], out_type=tf.float64), (3))\n",
    "\t\ttime = tf.ensure_shape(record[\"time\"], ())\n",
    "\n",
    "\t\treturn csi, position[:2], time\n",
    "\n",
    "\tdef apply_calibration(csi, pos, time):\n",
    "\t\tsto_offset = tf.tensordot(tf.constant(offsets[\"sto\"]), 2 * np.pi * tf.range(tf.shape(csi)[1], dtype = np.float32) / tf.cast(tf.shape(csi)[1], np.float32), axes = 0)\n",
    "\t\tcpo_offset = tf.tensordot(tf.constant(offsets[\"cpo\"]), tf.ones(tf.shape(csi)[1], dtype = np.float32), axes = 0)\n",
    "\t\tcsi = tf.multiply(csi, tf.exp(tf.complex(0.0, sto_offset + cpo_offset)))\n",
    "\n",
    "\t\treturn csi, pos, time\n",
    "\n",
    "\treturn tf.data.TFRecordDataset(path).map(record_parse_function, num_parallel_calls = tf.data.AUTOTUNE).map(apply_calibration, num_parallel_calls = tf.data.AUTOTUNE)\n",
    "\n",
    "inputpaths = [\n",
    "\t{\n",
    "\t\t\"tfrecords\" : \"dichasus/dichasus-cf02.tfrecords\",\n",
    "\t\t\"offsets\" : \"dichasus/reftx-offsets-dichasus-cf02.json\"\n",
    "\t},\n",
    "\t{\n",
    "\t\t\"tfrecords\" : \"dichasus/dichasus-cf03.tfrecords\",\n",
    "\t\t\"offsets\" : \"dichasus/reftx-offsets-dichasus-cf03.json\"\n",
    "\t},\n",
    "\t{\n",
    "\t\t\"tfrecords\" : \"dichasus/dichasus-cf04.tfrecords\",\n",
    "\t\t\"offsets\" : \"dichasus/reftx-offsets-dichasus-cf04.json\"\n",
    "\t}\n",
    "]\n",
    "\n",
    "training_set = load_and_calibrate(inputpaths[0][\"tfrecords\"], inputpaths[0][\"offsets\"])\n",
    "\n",
    "for path in inputpaths[1:]:\n",
    "\ttraining_set = training_set.concatenate(load_and_calibrate(path[\"tfrecords\"], path[\"offsets\"]))\n",
    "\n",
    "# Decimate dataset: Use only every 2nd datapoint (to reduce number of points)\n",
    "training_set = training_set.enumerate().filter(lambda idx, value : (idx % 2 == 0))\n",
    "training_set = training_set.map(lambda idx, value : value)"
   ]
  },
  {
   "cell_type": "markdown",
   "id": "0c45f5b3-310d-4e84-9810-2f167ea93d5e",
   "metadata": {},
   "source": [
    "# Feature Engineering"
   ]
  },
  {
   "cell_type": "code",
   "execution_count": 2,
   "id": "d9cc5041-2ece-453e-bd17-8af6181a81a7",
   "metadata": {},
   "outputs": [],
   "source": [
    "def average_over_subcarriers(csi, pos, time):\n",
    "\tcsi = tf.reduce_mean(csi[:, 508:516], axis=1)\n",
    "\treturn csi, pos, time\n",
    "\n",
    "training_set = training_set.map(average_over_subcarriers, num_parallel_calls = tf.data.AUTOTUNE)\n",
    "\n",
    "def scale_r2m(csi, pos, time):\n",
    "\tbeta = 1 + 1 / 16\n",
    "\t\n",
    "\tsecond_moment = tf.tensordot(csi, tf.math.conj(csi), axes=0)\n",
    "\tcsi = tf.constant(ANTENNACOUNT**(beta - 1), dtype = tf.complex64) / tf.math.pow(tf.norm(second_moment, ord = \"fro\", axis = (0, 1)), beta) * second_moment\n",
    "\tcsi = tf.squeeze(tf.reshape(csi, (1, ANTENNACOUNT * ANTENNACOUNT)), axis = 0)\n",
    "\tcsi = tf.math.real(csi)\n",
    "\n",
    "\treturn csi, pos, time\n",
    "\n",
    "training_set = training_set.map(scale_r2m, num_parallel_calls = tf.data.AUTOTUNE)"
   ]
  },
  {
   "cell_type": "code",
   "execution_count": 3,
   "id": "1569d63f-0e53-4cb5-973a-43f559202aee",
   "metadata": {},
   "outputs": [],
   "source": [
    "# If you have enough RAM...\n",
    "training_set = training_set.cache()"
   ]
  },
  {
   "cell_type": "markdown",
   "id": "1d934179-37de-42f9-8d29-631ac4ee1d5e",
   "metadata": {},
   "source": [
    "# Visualizing the Dataset"
   ]
  },
  {
   "cell_type": "code",
   "execution_count": 4,
   "id": "9b5919ca-a5ee-4574-8817-a0b32406f123",
   "metadata": {},
   "outputs": [],
   "source": [
    "# This may take a long time, since TensorFlow has to load the dataset from disk!\n",
    "groundtruth_positions = []\n",
    "timestamp_index_map = dict()\n",
    "csi_data = []\n",
    "\n",
    "for index, data in enumerate(training_set):\n",
    "\tcsi_data.append(data[0].numpy())\n",
    "\tgroundtruth_positions.append(data[1].numpy())\n",
    "\ttimestamp_index_map[data[2].numpy()] = index\n",
    "\n",
    "timestamp_index_map = dict(sorted(timestamp_index_map.items()))\n",
    "groundtruth_positions = np.asarray(groundtruth_positions)"
   ]
  },
  {
   "cell_type": "code",
   "execution_count": 5,
   "metadata": {},
   "outputs": [],
   "source": [
    "import pandas as pd"
   ]
  },
  {
   "cell_type": "code",
   "execution_count": 6,
   "metadata": {},
   "outputs": [],
   "source": [
    "meta_data = pd.DataFrame(csi_data)"
   ]
  },
  {
   "cell_type": "code",
   "execution_count": 7,
   "metadata": {},
   "outputs": [],
   "source": [
    "meta_data['time'] = list(timestamp_index_map.keys())\n",
    "meta_data[['x', 'y']] = groundtruth_positions"
   ]
  },
  {
   "cell_type": "code",
   "execution_count": 19,
   "metadata": {},
   "outputs": [],
   "source": [
    "# meta_data.to_csv('./data/dichasus.csv')"
   ]
  },
  {
   "cell_type": "code",
   "execution_count": null,
   "id": "258a69ba-4df9-41de-a38f-09ab22e93364",
   "metadata": {},
   "outputs": [],
   "source": [
    "def plot_colorized(positions, title = None):\n",
    "\t# Generate RGB colors for datapoints\n",
    "\tcenter_point = np.zeros(2, dtype = np.float32)\n",
    "\tcenter_point[0] = 0.5 * (np.min(groundtruth_positions[:, 0], axis = 0) + np.max(groundtruth_positions[:, 0], axis = 0))\n",
    "\tcenter_point[1] = 0.5 * (np.min(groundtruth_positions[:, 1], axis = 0) + np.max(groundtruth_positions[:, 1], axis = 0))\n",
    "\tNormalizeData = lambda in_data : (in_data - np.min(in_data)) / (np.max(in_data) - np.min(in_data))\n",
    "\trgb_values = np.zeros((groundtruth_positions.shape[0], 3))\n",
    "\trgb_values[:, 0] = 1 - 0.9 * NormalizeData(groundtruth_positions[:, 0])\n",
    "\trgb_values[:, 1] = 0.8 * NormalizeData(np.square(np.linalg.norm(groundtruth_positions - center_point, axis=1)))\n",
    "\trgb_values[:, 2] = 0.9 * NormalizeData(groundtruth_positions[:, 1])\n",
    "\n",
    "\t# Plot datapoints\n",
    "\tplt.figure(figsize=(6, 6))\n",
    "\tif title is not None:\n",
    "\t\tplt.suptitle(title, fontsize=16)\n",
    "\tplt.scatter(positions[:, 0], positions[:, 1], c = rgb_values, s = 5)\n",
    "\n",
    "plot_colorized(groundtruth_positions, title=\"Ground Truth Positions\")"
   ]
  },
  {
   "cell_type": "markdown",
   "id": "b4f78cee-eae8-4667-8373-deef6ebc6ae7",
   "metadata": {},
   "source": [
    "# Triplet Loss"
   ]
  },
  {
   "cell_type": "code",
   "execution_count": 8,
   "id": "f8203efe-a30c-4a4a-a29d-424c2a14e4f8",
   "metadata": {},
   "outputs": [],
   "source": [
    "def triplet_loss(y_true, y_pred):\n",
    "\tanchor, positive, negative = (y_pred[:, :CC_DIMENSIONALITY], y_pred[:, CC_DIMENSIONALITY : 2 * CC_DIMENSIONALITY], y_pred[:, 2 * CC_DIMENSIONALITY :])\n",
    "\tpositive_dist = tf.reduce_mean(tf.square(anchor - positive), axis = 1)\n",
    "\tnegative_dist = tf.reduce_mean(tf.square(anchor - negative), axis = 1)\n",
    "\t\t\t\n",
    "\treturn tf.maximum(positive_dist - negative_dist + 1, 0.0)"
   ]
  },
  {
   "cell_type": "markdown",
   "id": "0bf70abd-240c-48c5-9fd3-21762778b7db",
   "metadata": {},
   "source": [
    "# Triplet Selection"
   ]
  },
  {
   "cell_type": "code",
   "execution_count": 9,
   "id": "1e99bf02",
   "metadata": {},
   "outputs": [],
   "source": [
    "from scipy import spatial\n",
    "\n",
    "\n",
    "def ap_indices_fabrication(pos_data, d=.3):\n",
    "    d = .3\n",
    "    ap_indices = dict()\n",
    "    meta_tree = spatial.cKDTree(pos_data)\n",
    "    for i in range(len(pos_data)):\n",
    "        proximal_index = meta_tree.query_ball_point(pos_data[i], d)\n",
    "        if len(proximal_index) > 10:\n",
    "            ap_indices[i] = np.random.choice(proximal_index, 10)\n",
    "        else:\n",
    "            ap_indices = proximal_index\n",
    "\n",
    "    return ap_indices"
   ]
  },
  {
   "cell_type": "code",
   "execution_count": 10,
   "id": "a853dda4-46e6-4003-80c0-95209a0a37b6",
   "metadata": {},
   "outputs": [],
   "source": [
    "def generate_positive_sample_lookup(Tc = 1.5):\n",
    "\tlookup = dict()\n",
    "\tsuitable_set = dict()\n",
    "\tcandidate_iterator = iter(timestamp_index_map.items())\n",
    "\tnext_suitable = next(candidate_iterator)\n",
    "\n",
    "\tfor anchor_timestamp, anchor_index in timestamp_index_map.items():\n",
    "\t\t# Add additional later suitable datapoints to suitable_set\n",
    "\t\twhile next_suitable[0] - anchor_timestamp < Tc:\n",
    "\t\t\tsuitable_set.update((next_suitable,))\n",
    "\t\t\ttry:\n",
    "\t\t\t\tnext_suitable = next(candidate_iterator)\n",
    "\t\t\texcept StopIteration:\n",
    "\t\t\t\tbreak\n",
    "\n",
    "\t\t# Remove too early suitable datapoints from suitable_set\n",
    "\t\toutdated = []\n",
    "\t\tfor timestamp in suitable_set.keys():\n",
    "\t\t\tif anchor_timestamp - timestamp > Tc:\n",
    "\t\t\t\toutdated.append(timestamp)\n",
    "\t\t\telse:\n",
    "\t\t\t\tfor o in outdated:\n",
    "\t\t\t\t\tdel suitable_set[o]\n",
    "\t\t\t\tbreak\n",
    "\n",
    "\t\t# For every potential anchor point, store lookup table of potential positive sample indices\n",
    "\t\tlookup[anchor_index] = set(suitable_set.values())\n",
    "\t\t\n",
    "\t\t# Set of suitable positive samples must not contain anchor itself\n",
    "\t\tlookup[anchor_index].remove(anchor_index)\n",
    "\t\tlookup[anchor_index] = list(lookup[anchor_index])\n",
    "\n",
    "\treturn lookup"
   ]
  },
  {
   "cell_type": "code",
   "execution_count": 11,
   "id": "0542ad95-7039-437f-aa76-a88fef71ff47",
   "metadata": {},
   "outputs": [],
   "source": [
    "def generate_triplets(nr_of_triplets = 1000, Tc = 1.5):\n",
    "    print(\"Generating lookup table for positive samples\")\n",
    "    positive_sample_lookup = generate_positive_sample_lookup(Tc)\n",
    "\n",
    "    # Generate list of triplet containing *indices* of datapoints in dataset\n",
    "    triplet_indices = []\n",
    "    anchor_indices = list(positive_sample_lookup.keys())\n",
    "    ap_dist = []\n",
    "    an_dist = []\n",
    "    d_fn = np.linalg.norm\n",
    "    \n",
    "    while len(triplet_indices) < nr_of_triplets:\n",
    "        anchor = anchor_indices[np.random.randint(len(anchor_indices))]\n",
    "        \n",
    "        # Must ensure that anchor point is not a loner and actually has some close positive samples\n",
    "        if len(positive_sample_lookup[anchor]) < 1:\n",
    "            continue\n",
    "\n",
    "        positive = np.random.choice(positive_sample_lookup[anchor])\n",
    "        negative = anchor_indices[np.random.randint(len(anchor_indices))]\n",
    "        ap_dist.append(d_fn(groundtruth_positions[anchor] - groundtruth_positions[positive]))\n",
    "        an_dist.append(d_fn(groundtruth_positions[anchor] - groundtruth_positions[negative]))\n",
    "        \n",
    "        triplet_indices.append((anchor, positive, negative))\n",
    "\n",
    "    # Iterate over dataset (on hard drive storage) and load relevant CSI data to \"triplets\" list (in RAM)\n",
    "    datapoints_to_load = dict()\n",
    "    for target, indices in enumerate(triplet_indices):\n",
    "        for sample in range(3):\n",
    "            if indices[sample] not in datapoints_to_load:\n",
    "                datapoints_to_load[indices[sample]] = []\n",
    "            datapoints_to_load[indices[sample]].append((target, sample))\n",
    "\n",
    "    datapoints_to_load = dict(sorted(datapoints_to_load.items()))\n",
    "\n",
    "    anchors = [None for i in range(len(triplet_indices))]\n",
    "    positives = [None for i in range(len(triplet_indices))]\n",
    "    negatives = [None for i in range(len(triplet_indices))]\n",
    "\n",
    "\n",
    "    print(\"Loading batch of triplets from dataset (on disk or in RAM)\")\n",
    "    for index, data in enumerate(training_set):\n",
    "        if index in datapoints_to_load:\n",
    "            for target in datapoints_to_load[index]:\n",
    "                if target[1] == 0:\n",
    "                    anchors[target[0]] = data[0]\n",
    "                elif target[1] == 1:\n",
    "                    positives[target[0]] = data[0]\n",
    "                elif target[1] == 2:\n",
    "                    negatives[target[0]] = data[0]\n",
    "    print(\"Finished loading triplet batch\")\n",
    "\n",
    "    return [tf.stack(anchors), tf.stack(positives), tf.stack(negatives)], an_dist, ap_dist"
   ]
  },
  {
   "cell_type": "code",
   "execution_count": 12,
   "metadata": {},
   "outputs": [
    {
     "name": "stdout",
     "output_type": "stream",
     "text": [
      "Generating lookup table for positive samples\n"
     ]
    },
    {
     "name": "stdout",
     "output_type": "stream",
     "text": [
      "Loading batch of triplets from dataset (on disk or in RAM)\n",
      "Finished loading triplet batch\n"
     ]
    }
   ],
   "source": [
    "Tc = 1.5 \n",
    "triplets, an_dist, ap_dist = generate_triplets(nr_of_triplets=15000, Tc=Tc)"
   ]
  },
  {
   "cell_type": "code",
   "execution_count": 13,
   "id": "1cc3e25d",
   "metadata": {},
   "outputs": [
    {
     "data": {
      "text/plain": [
       "(3, 15000, 1024)"
      ]
     },
     "execution_count": 13,
     "metadata": {},
     "output_type": "execute_result"
    }
   ],
   "source": [
    "np.shape(triplets)"
   ]
  },
  {
   "cell_type": "code",
   "execution_count": 23,
   "id": "828c9ade",
   "metadata": {},
   "outputs": [],
   "source": [
    "ancient_triplets = np.swapaxes(np.load('./data/opendata_triplets.npy'), 0, 1)"
   ]
  },
  {
   "cell_type": "code",
   "execution_count": null,
   "id": "781ef502",
   "metadata": {},
   "outputs": [],
   "source": [
    "ancient_triplets_df = pd.DataFrame(ancient_triplets)"
   ]
  },
  {
   "cell_type": "code",
   "execution_count": 14,
   "id": "5c1522cc",
   "metadata": {},
   "outputs": [],
   "source": [
    "new_triplets = np.swapaxes(triplets, 0, 1)"
   ]
  },
  {
   "cell_type": "code",
   "execution_count": 16,
   "id": "7a152c71",
   "metadata": {},
   "outputs": [],
   "source": [
    "np.save('./data/opendata_triplets_new_1', new_triplets)"
   ]
  },
  {
   "cell_type": "code",
   "execution_count": 14,
   "id": "2f6ec01e",
   "metadata": {},
   "outputs": [],
   "source": [
    "triplets_time_ap_an_dist = {}\n",
    "triplets_time_ap_an_dist['ap'] = ap_dist\n",
    "triplets_time_ap_an_dist['an'] = an_dist"
   ]
  },
  {
   "cell_type": "code",
   "execution_count": 16,
   "id": "23d25fc9",
   "metadata": {},
   "outputs": [],
   "source": [
    "np.save('./data/triplets_time_ap_an_dist', triplets_time_ap_an_dist, allow_pickle=True)"
   ]
  },
  {
   "cell_type": "code",
   "execution_count": 13,
   "metadata": {},
   "outputs": [
    {
     "data": {
      "text/plain": [
       "Text(0.5, 1.0, 'Fabricated by time')"
      ]
     },
     "execution_count": 13,
     "metadata": {},
     "output_type": "execute_result"
    },
    {
     "data": {
      "image/png": "[encoded data removed]",
      "text/plain": [
       "<Figure size 640x480 with 1 Axes>"
      ]
     },
     "metadata": {},
     "output_type": "display_data"
    }
   ],
   "source": [
    "plt.scatter(ap_dist, an_dist)\n",
    "# plt.yscale('log')\n",
    "# plt.xscale('log')\n",
    "plt.xlabel('AP distance')\n",
    "plt.ylabel('AN distance')\n",
    "plt.title('Fabricated by time')"
   ]
  },
  {
   "cell_type": "markdown",
   "id": "28b45ca5-27a1-4cf5-949e-2052970d5d44",
   "metadata": {},
   "source": [
    "# Neural Network Architeinput_anchor = tf.keras.layers.Input(shape=(ANTENNACOUNT * ANTENNACOUNT,))\n",
    "input_positive = tf.keras.layers.Input(shape=(ANTENNACOUNT * ANTENNACOUNT,))\n",
    "input_negative = tf.keras.layers.Input(shape=(ANTENNACOUNT * ANTENNACOUNT,))\n",
    "\n",
    "embedding_anchor = embedding_model(input_anchor)\n",
    "embedding_positive = embedding_model(input_positive)\n",
    "embedding_negative = embedding_model(input_negative)\n",
    "\n",
    "output = tf.keras.layers.concatenate([embedding_anchor, embedding_positive, embedding_negative], axis=1)\n",
    "model = tf.keras.models.Model([input_anchor, input_positive, input_negative], output)cture"
   ]
  },
  {
   "cell_type": "code",
   "execution_count": null,
   "id": "b8ddcc1e-5bfe-4c13-936e-9696831e40bf",
   "metadata": {},
   "outputs": [],
   "source": [
    "CC_DIMENSIONALITY = 2\n",
    "embedding_model = tf.keras.models.Sequential(\n",
    "\t[\n",
    "\t\ttf.keras.layers.Dense(ANTENNACOUNT * ANTENNACOUNT, activation = \"relu\", input_shape = (ANTENNACOUNT * ANTENNACOUNT,)),\n",
    "\t\ttf.keras.layers.BatchNormalization(),\n",
    "\t\ttf.keras.layers.Dense(512, activation = \"relu\"),\n",
    "\t\ttf.keras.layers.BatchNormalization(),\n",
    "\t\ttf.keras.layers.Dense(256, activation = \"relu\"),\n",
    "\t\ttf.keras.layers.BatchNormalization(),\n",
    "\t\ttf.keras.layers.Dense(128, activation = \"relu\"),\n",
    "\t\ttf.keras.layers.BatchNormalization(),\n",
    "\t\ttf.keras.layers.Dense(64, activation = \"relu\"),\n",
    "\t\ttf.keras.layers.BatchNormalization(),\n",
    "\t\ttf.keras.layers.Dense(CC_DIMENSIONALITY, activation = \"linear\"),\n",
    "\t]\n",
    ")"
   ]
  },
  {
   "cell_type": "code",
   "execution_count": null,
   "id": "66d46060-192f-46a4-acd0-4b3ac044e150",
   "metadata": {},
   "outputs": [],
   "source": [
    "input_anchor = tf.keras.layers.Input(shape=(ANTENNACOUNT * ANTENNACOUNT,))\n",
    "input_positive = tf.keras.layers.Input(shape=(ANTENNACOUNT * ANTENNACOUNT,))\n",
    "input_negative = tf.keras.layers.Input(shape=(ANTENNACOUNT * ANTENNACOUNT,))\n",
    "\n",
    "embedding_anchor = embedding_model(input_anchor)\n",
    "embedding_positive = embedding_model(input_positive)\n",
    "embedding_negative = embedding_model(input_negative)\n",
    "\n",
    "output = tf.keras.layers.concatenate([embedding_anchor, embedding_positive, embedding_negative], axis=1)\n",
    "model = tf.keras.models.Model([input_anchor, input_positive, input_negative], output)"
   ]
  },
  {
   "cell_type": "markdown",
   "id": "6d898230-3ffb-48a1-aa17-bccdc7f32e45",
   "metadata": {},
   "source": [
    "# Neural Network Training"
   ]
  },
  {
   "cell_type": "code",
   "execution_count": null,
   "id": "42ac7008-4498-4849-9aee-bf0ff510d962",
   "metadata": {},
   "outputs": [],
   "source": [
    "optimizer = tf.keras.optimizers.Adam()\n",
    "model.compile(loss = triplet_loss, optimizer = optimizer)\n",
    "\n",
    "batch_size = 8192\n",
    "learning_rates = [1e-3, 1e-3, 1e-4, 1e-4, 1e-5, 1e-5, 1e-5, 1e-5]\n",
    "T_c = 5\n",
    "\n",
    "for l in range(len(learning_rates)):\n",
    "\tprint(\"\\nTraining Session \", l + 1, \"\\nT_c =\", T_c)\n",
    "\ttriplets = generate_triplets(150000, T_c)\n",
    "\toptimizer.learning_rate.assign(learning_rates[l])\n",
    "\tprint(\"\\nBatch Size: \", batch_size, \"\\nEpochs: \", 10, \"\\nLearning rate: \", learning_rates[l])\n",
    "\tmodel.fit(triplets, triplets, batch_size = batch_size, steps_per_epoch = int(len(triplets[0]) / batch_size), epochs = 10)"
   ]
  },
  {
   "cell_type": "markdown",
   "id": "1fb28f6f-e1e4-4811-93f5-d0453c4b4453",
   "metadata": {},
   "source": [
    "# Plotting the Channel Chart"
   ]
  },
  {
   "cell_type": "code",
   "execution_count": null,
   "id": "2553f2bb-b8a2-4d08-998c-2b489ccccf7b",
   "metadata": {},
   "outputs": [],
   "source": [
    "channel_chart_positions = []\n",
    "\t\n",
    "for csi, pos, timestamp in training_set.batch(1000):\n",
    "\tchannel_chart_positions.append(embedding_model.predict(csi))\n",
    "\n",
    "channel_chart_positions = np.vstack(channel_chart_positions)\n",
    "\n",
    "plot_colorized(channel_chart_positions, title = \"Channel Chart\")"
   ]
  },
  {
   "cell_type": "markdown",
   "id": "69ccb7bd-6723-493b-bd3b-26a6a954cebe",
   "metadata": {},
   "source": [
    "# Performance Evaluation"
   ]
  },
  {
   "cell_type": "code",
   "execution_count": null,
   "id": "2852585b-e2b2-4b7b-a9dc-3063c0549e94",
   "metadata": {},
   "outputs": [],
   "source": [
    "from sklearn.metrics import pairwise_distances\n",
    "from sklearn.neighbors import NearestNeighbors\n",
    "from sklearn import manifold\n",
    "import random\n",
    "\n",
    "# Continuity is identical to trustworthiness, except that original space and embedding space are flipped\n",
    "def continuity(*args, **kwargs):\n",
    "    args = list(args)\n",
    "    args[0], args[1] = args[1], args[0]\n",
    "    return manifold.trustworthiness(*args, **kwargs)\n",
    "\n",
    "def kruskal_stress(X, X_embedded, *, metric=\"euclidean\"):\n",
    "\tdist_X = pairwise_distances(X, metric = metric)\n",
    "\tdist_X_embedded = pairwise_distances(X_embedded, metric = metric)\n",
    "\tbeta = np.divide(np.sum(dist_X * dist_X_embedded), np.sum(dist_X_embedded * dist_X_embedded))\n",
    "\n",
    "\treturn np.sqrt(np.divide(np.sum(np.square((dist_X - beta * dist_X_embedded))), np.sum(dist_X * dist_X)))"
   ]
  },
  {
   "cell_type": "code",
   "execution_count": null,
   "id": "20e82518-7d2a-4470-b4c5-75202304445a",
   "metadata": {},
   "outputs": [],
   "source": [
    "subset_indices = random.sample(range(len(groundtruth_positions)), len(groundtruth_positions) // 10)\n",
    "\n",
    "groundtruth_positions_subset = groundtruth_positions[subset_indices]\n",
    "channel_chart_positions_subset = channel_chart_positions[subset_indices]\n",
    "\n",
    "ct_train = continuity(groundtruth_positions_subset, channel_chart_positions_subset, n_neighbors = int(0.05 * len(groundtruth_positions_subset)))\n",
    "tw_train = manifold.trustworthiness(groundtruth_positions_subset, channel_chart_positions_subset, n_neighbors = int(0.05 * len(groundtruth_positions_subset)))\n",
    "ks_train = kruskal_stress(groundtruth_positions_subset, channel_chart_positions_subset)\n",
    "\n",
    "metrics_channel_chart_train = np.around(np.array([ct_train, tw_train, ks_train]), 4)\n",
    "\n",
    "print(\"CT: {} \\nTW: {} \\nKS: {}\".format(*metrics_channel_chart_train))"
   ]
  }
 ],
 "metadata": {
  "kernelspec": {
   "display_name": "Python 3",
   "language": "python",
   "name": "python3"
  },
  "language_info": {
   "codemirror_mode": {
    "name": "ipython",
    "version": 3
   },
   "file_extension": ".py",
   "mimetype": "text/x-python",
   "name": "python",
   "nbconvert_exporter": "python",
   "pygments_lexer": "ipython3",
   "version": "3.10.12"
  }
 },
 "nbformat": 4,
 "nbformat_minor": 5
}
